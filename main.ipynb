{
 "cells": [
  {
   "cell_type": "code",
   "execution_count": null,
   "metadata": {},
   "outputs": [],
   "source": [
    "from chenopod.utility import KFoldSplit\n",
    "from chenopod.models.finetune import EfficientB1\n",
    "%matplotlib inline\n",
    "\n",
    "for i in range(1,6):\n",
    "    KFoldSplit.perform(fold=i,base_dir=\"I:/GHOLAMREZA_Z/ACHENY_LAST_224\")\n",
    "    EfficientB1.build(fold=i)"
   ]
  },
  {
   "cell_type": "code",
   "execution_count": null,
   "metadata": {},
   "outputs": [],
   "source": [
    "from chenopod.models import ChenoScratch\n",
    "\n",
    "for i in range(1,6):\n",
    "    KFoldSplit.perform(fold=i)\n",
    "    ChenoScratch.build(fold=i)"
   ]
  },
  {
   "cell_type": "code",
   "execution_count": null,
   "metadata": {},
   "outputs": [],
   "source": [
    "from chenopod.models.finetune import Vgg16Acheny\n",
    "\n",
    "\n",
    "for i in range(1,6):\n",
    "    KFoldSplit.perform(fold=i,base_dir=\"I:/GHOLAMREZA_Z/ACHENY_LAST_224\")\n",
    "    Vgg16Acheny.build(fold=i,patient=5)"
   ]
  },
  {
   "cell_type": "code",
   "execution_count": null,
   "metadata": {},
   "outputs": [],
   "source": [
    "from chenopod.utility import ClassificationReport\n",
    "from chenopod.utility import ModelRadar\n",
    "\n",
    "for i in range(1,6):\n",
    "    ClassificationReport.show(modelname='EffB1',base_dir = 'I:/GHOLAMREZA_Z/ACHENY_LAST_224',testdir=\"test\",fold=i)\n",
    "    ClassificationReport.show(modelname='vgg16',base_dir = 'I:/GHOLAMREZA_Z/ACHENY_LAST_224',testdir=\"test\",fold=i)\n",
    "    ClassificationReport.show(modelname='cheno',base_dir = 'I:/GHOLAMREZA_Z/ACHENY_LAST_64',testdir=\"test\",fold=i)\n",
    "    ModelRadar.show(modelname='EffB1',base_dir='I:/GHOLAMREZA_Z/ACHENY_LAST_224',fold=i)#'cheno'#'VGG16' "
   ]
  }
 ],
 "metadata": {
  "kernelspec": {
   "display_name": "Python 3",
   "language": "python",
   "name": "python3"
  },
  "language_info": {
   "codemirror_mode": {
    "name": "ipython",
    "version": 3
   },
   "file_extension": ".py",
   "mimetype": "text/x-python",
   "name": "python",
   "nbconvert_exporter": "python",
   "pygments_lexer": "ipython3",
   "version": "3.6.5"
  }
 },
 "nbformat": 4,
 "nbformat_minor": 2
}
